{
 "cells": [
  {
   "cell_type": "markdown",
   "metadata": {
    "id": "cVGEL8I16UY0"
   },
   "source": [
    "###1. Explain the key features of Python that make it a popular choice for programming\n"
   ]
  },
  {
   "cell_type": "markdown",
   "metadata": {
    "id": "bf4JJJuK6edt"
   },
   "source": [
    "Python is a widely used programming language due to its:\n",
    "\n",
    "- Simplicity & Readability: Python’s syntax is clear and easy to understand.\n",
    "- Interpreted Language: Code is executed line by line, making debugging easier.\n",
    "- Dynamically Typed: No need to declare variable types explicitly.\n",
    "- Extensive Libraries: Offers a vast collection of libraries for various applications.\n",
    "- Cross-Platform Compatibility: Runs on Windows, macOS, and Linux.\n",
    "- Object-Oriented & Functional Programming: Supports multiple paradigms.\n",
    "- Automatic Memory Management: Uses garbage collection to manage memory efficiently.\n",
    "\n"
   ]
  },
  {
   "cell_type": "markdown",
   "metadata": {
    "id": "tLnJmciZ65OW"
   },
   "source": [
    "###2. Describe the role of predefined keywords in Python and provide examples of how they are used in a program"
   ]
  },
  {
   "cell_type": "markdown",
   "metadata": {
    "id": "63WbEYuR667V"
   },
   "source": [
    "Predefined keywords in Python are reserved words with special meanings. They cannot be used as variable names. Other keywords include import, def, while, for, try, except, etc. Examples:"
   ]
  },
  {
   "cell_type": "code",
   "execution_count": 1,
   "metadata": {
    "colab": {
     "base_uri": "https://localhost:8080/"
    },
    "id": "ED0jFmam7ALe",
    "outputId": "a8692c36-234c-4034-8bff-b4d68ab0480c"
   },
   "outputs": [
    {
     "name": "stdout",
     "output_type": "stream",
     "text": [
      "Even\n"
     ]
    }
   ],
   "source": [
    "# Example using 'if', 'else', and 'return'\n",
    "def check_even(number):\n",
    "    if number % 2 == 0:\n",
    "        return \"Even\"\n",
    "    else:\n",
    "        return \"Odd\"\n",
    "\n",
    "print(check_even(4))\n"
   ]
  },
  {
   "cell_type": "markdown",
   "metadata": {
    "id": "_haaHYU-7c7_"
   },
   "source": [
    "###3. Compare and contrast mutable and immutable objects in Python with examples"
   ]
  },
  {
   "cell_type": "markdown",
   "metadata": {
    "id": "LqcJk5M87gAu"
   },
   "source": [
    "- Mutable Objects: Can be changed after creation. Examples: Lists, Dictionaries, Sets.\n",
    "\n",
    "- Immutable Objects: Cannot be changed after creation. Examples: Strings, Tuples, Integers."
   ]
  },
  {
   "cell_type": "code",
   "execution_count": 2,
   "metadata": {
    "colab": {
     "base_uri": "https://localhost:8080/"
    },
    "id": "C5hkzapG7oPp",
    "outputId": "d2ed9126-2a08-41c7-95a5-4260d7532b88"
   },
   "outputs": [
    {
     "name": "stdout",
     "output_type": "stream",
     "text": [
      "[1, 2, 3, 4]\n",
      "Hello World\n"
     ]
    }
   ],
   "source": [
    "# Mutable Example (List)\n",
    "my_list = [1, 2, 3]\n",
    "my_list.append(4)\n",
    "print(my_list)\n",
    "\n",
    "# Immutable Example (String)\n",
    "my_string = \"Hello\"\n",
    "my_string += \" World\"\n",
    "print(my_string)\n"
   ]
  },
  {
   "cell_type": "markdown",
   "metadata": {},
   "source": [
    "###4. Discuss the different types of operators in Python and provide examples of how they are used"
   ]
  },
  {
   "cell_type": "markdown",
   "metadata": {},
   "source": [
    "Python operators are:\n",
    "\n",
    "- Arithmetic Operators: +, -, *, /, %, //, **\n",
    "- Comparison Operators: ==, !=, >, <, >=, <=\n",
    "- Logical Operators: and, or, not\n",
    "- Bitwise Operators: &, |, ^, ~, <<, >>\n",
    "- Assignment Operators: =, +=, -=, *=, /=, %=, //=, **=\n",
    "- Membership Operators: in, not in\n",
    "- Identity Operators: is, is not"
   ]
  },
  {
   "cell_type": "markdown",
   "metadata": {},
   "source": [
    "###5. Explain the concept of type casting in Python with examples"
   ]
  },
  {
   "cell_type": "markdown",
   "metadata": {},
   "source": [
    "Type casting converts one data type into another."
   ]
  },
  {
   "cell_type": "code",
   "execution_count": 3,
   "metadata": {
    "colab": {
     "base_uri": "https://localhost:8080/"
    },
    "id": "EM3qaP3A77U5",
    "outputId": "92691d1f-88ea-4da7-cb84-44c1f4f17458"
   },
   "outputs": [
    {
     "name": "stdout",
     "output_type": "stream",
     "text": [
      "<class 'str'>\n",
      "25\n"
     ]
    }
   ],
   "source": [
    "# Integer to String\n",
    "num = 10\n",
    "str_num = str(num)\n",
    "print(type(str_num))\n",
    "\n",
    "# String to Integer\n",
    "str_val = \"20\"\n",
    "int_val = int(str_val)\n",
    "print(int_val + 5)\n"
   ]
  },
  {
   "cell_type": "code",
   "execution_count": 4,
   "metadata": {
    "colab": {
     "base_uri": "https://localhost:8080/"
    },
    "id": "KALRl-1c8PzZ",
    "outputId": "07c30bb8-4765-4a02-c36b-8bcbe5bfe5be"
   },
   "outputs": [
    {
     "name": "stdout",
     "output_type": "stream",
     "text": [
      "15\n",
      "True\n"
     ]
    }
   ],
   "source": [
    "# Example of arithmetic and logical operators\n",
    "a, b = 10, 5\n",
    "print(a + b)\n",
    "print(a > b and b > 0)\n"
   ]
  },
  {
   "cell_type": "markdown",
   "metadata": {
    "id": "ufvbf7hP8XLO"
   },
   "source": [
    "###6. How do conditional statements work in Python? Illustrate with examples\n"
   ]
  },
  {
   "cell_type": "markdown",
   "metadata": {
    "id": "BcSMhFz68cdm"
   },
   "source": [
    "Conditional statements allow decision-making in a program."
   ]
  },
  {
   "cell_type": "code",
   "execution_count": 5,
   "metadata": {
    "colab": {
     "base_uri": "https://localhost:8080/"
    },
    "id": "06hRIdP98iL1",
    "outputId": "1a5f5721-18b3-4c92-dc32-ddd7a44a8aad"
   },
   "outputs": [
    {
     "name": "stdout",
     "output_type": "stream",
     "text": [
      "x is greater than 5\n"
     ]
    }
   ],
   "source": [
    "x = 10\n",
    "if x > 5:\n",
    "    print(\"x is greater than 5\")\n",
    "elif x == 5:\n",
    "    print(\"x is equal to 5\")\n",
    "else:\n",
    "    print(\"x is less than 5\")\n"
   ]
  },
  {
   "cell_type": "markdown",
   "metadata": {
    "id": "5boJMLWN8rq7"
   },
   "source": [
    "###7. Describe the different types of loops in Python and their use cases with examples"
   ]
  },
  {
   "cell_type": "markdown",
   "metadata": {
    "id": "p1RHZbmf8v5E"
   },
   "source": [
    "For Loop: Used for iterating over sequences (lists, tuples, strings)."
   ]
  },
  {
   "cell_type": "code",
   "execution_count": 6,
   "metadata": {
    "colab": {
     "base_uri": "https://localhost:8080/"
    },
    "id": "05bkiPIg8xZl",
    "outputId": "f43da807-5da7-4920-e1b0-c38abd1be890"
   },
   "outputs": [
    {
     "name": "stdout",
     "output_type": "stream",
     "text": [
      "0\n",
      "1\n",
      "2\n",
      "3\n",
      "4\n"
     ]
    }
   ],
   "source": [
    "for i in range(5):\n",
    "    print(i)\n"
   ]
  },
  {
   "cell_type": "markdown",
   "metadata": {
    "id": "5MGnhNYT80Z1"
   },
   "source": [
    "While Loop: Runs as long as a condition is True.\n"
   ]
  },
  {
   "cell_type": "code",
   "execution_count": 7,
   "metadata": {
    "colab": {
     "base_uri": "https://localhost:8080/"
    },
    "id": "JNMLZejo82Ie",
    "outputId": "4d6bd176-9187-4bf1-e46c-2284204c5d25"
   },
   "outputs": [
    {
     "name": "stdout",
     "output_type": "stream",
     "text": [
      "0\n",
      "1\n",
      "2\n",
      "3\n",
      "4\n"
     ]
    }
   ],
   "source": [
    "x = 0\n",
    "while x < 5:\n",
    "    print(x)\n",
    "    x += 1\n"
   ]
  },
  {
   "cell_type": "markdown",
   "metadata": {
    "id": "EEZN_ykz8_fO"
   },
   "source": [
    "Nested Loops: A loop inside another loop.\n",
    "\n"
   ]
  },
  {
   "cell_type": "code",
   "execution_count": 8,
   "metadata": {
    "colab": {
     "base_uri": "https://localhost:8080/"
    },
    "id": "jQfIOO269CIE",
    "outputId": "fed7a93f-04ae-4b1e-866e-b8cff40f7526"
   },
   "outputs": [
    {
     "name": "stdout",
     "output_type": "stream",
     "text": [
      "0 0\n",
      "0 1\n",
      "1 0\n",
      "1 1\n",
      "2 0\n",
      "2 1\n"
     ]
    }
   ],
   "source": [
    "for i in range(3):\n",
    "    for j in range(2):\n",
    "        print(i, j)\n"
   ]
  },
  {
   "cell_type": "markdown",
   "metadata": {
    "id": "INUw6PSQ9F88"
   },
   "source": [
    "These loops help automate repetitive tasks efficiently."
   ]
  }
 ],
 "metadata": {
  "colab": {
   "provenance": []
  },
  "kernelspec": {
   "display_name": "Python [conda env:base] *",
   "language": "python",
   "name": "conda-base-py"
  },
  "language_info": {
   "codemirror_mode": {
    "name": "ipython",
    "version": 3
   },
   "file_extension": ".py",
   "mimetype": "text/x-python",
   "name": "python",
   "nbconvert_exporter": "python",
   "pygments_lexer": "ipython3",
   "version": "3.12.7"
  }
 },
 "nbformat": 4,
 "nbformat_minor": 4
}
